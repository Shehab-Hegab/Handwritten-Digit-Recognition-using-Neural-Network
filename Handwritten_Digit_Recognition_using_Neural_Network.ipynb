{
  "nbformat": 4,
  "nbformat_minor": 0,
  "metadata": {
    "colab": {
      "provenance": []
    },
    "kernelspec": {
      "name": "python3",
      "display_name": "Python 3"
    },
    "language_info": {
      "name": "python"
    }
  },
  "cells": [
    {
      "cell_type": "code",
      "source": [
        "from google.colab import files\n",
        "uploaded = files.upload()\n",
        "#If file is not present than you can download from https://www.kaggle.com/datasets/avnishnish/mnist-original?resource=download and upload here"
      ],
      "metadata": {
        "colab": {
          "base_uri": "https://localhost:8080/",
          "height": 73
        },
        "id": "6ymQwvC4o247",
        "outputId": "f81a15fc-042a-4db7-e5e3-31959e17b612"
      },
      "execution_count": null,
      "outputs": [
        {
          "output_type": "display_data",
          "data": {
            "text/plain": [
              "<IPython.core.display.HTML object>"
            ],
            "text/html": [
              "\n",
              "     <input type=\"file\" id=\"files-cc5339ea-de3f-4d4b-a512-1968a784ed04\" name=\"files[]\" multiple disabled\n",
              "        style=\"border:none\" />\n",
              "     <output id=\"result-cc5339ea-de3f-4d4b-a512-1968a784ed04\">\n",
              "      Upload widget is only available when the cell has been executed in the\n",
              "      current browser session. Please rerun this cell to enable.\n",
              "      </output>\n",
              "      <script>// Copyright 2017 Google LLC\n",
              "//\n",
              "// Licensed under the Apache License, Version 2.0 (the \"License\");\n",
              "// you may not use this file except in compliance with the License.\n",
              "// You may obtain a copy of the License at\n",
              "//\n",
              "//      http://www.apache.org/licenses/LICENSE-2.0\n",
              "//\n",
              "// Unless required by applicable law or agreed to in writing, software\n",
              "// distributed under the License is distributed on an \"AS IS\" BASIS,\n",
              "// WITHOUT WARRANTIES OR CONDITIONS OF ANY KIND, either express or implied.\n",
              "// See the License for the specific language governing permissions and\n",
              "// limitations under the License.\n",
              "\n",
              "/**\n",
              " * @fileoverview Helpers for google.colab Python module.\n",
              " */\n",
              "(function(scope) {\n",
              "function span(text, styleAttributes = {}) {\n",
              "  const element = document.createElement('span');\n",
              "  element.textContent = text;\n",
              "  for (const key of Object.keys(styleAttributes)) {\n",
              "    element.style[key] = styleAttributes[key];\n",
              "  }\n",
              "  return element;\n",
              "}\n",
              "\n",
              "// Max number of bytes which will be uploaded at a time.\n",
              "const MAX_PAYLOAD_SIZE = 100 * 1024;\n",
              "\n",
              "function _uploadFiles(inputId, outputId) {\n",
              "  const steps = uploadFilesStep(inputId, outputId);\n",
              "  const outputElement = document.getElementById(outputId);\n",
              "  // Cache steps on the outputElement to make it available for the next call\n",
              "  // to uploadFilesContinue from Python.\n",
              "  outputElement.steps = steps;\n",
              "\n",
              "  return _uploadFilesContinue(outputId);\n",
              "}\n",
              "\n",
              "// This is roughly an async generator (not supported in the browser yet),\n",
              "// where there are multiple asynchronous steps and the Python side is going\n",
              "// to poll for completion of each step.\n",
              "// This uses a Promise to block the python side on completion of each step,\n",
              "// then passes the result of the previous step as the input to the next step.\n",
              "function _uploadFilesContinue(outputId) {\n",
              "  const outputElement = document.getElementById(outputId);\n",
              "  const steps = outputElement.steps;\n",
              "\n",
              "  const next = steps.next(outputElement.lastPromiseValue);\n",
              "  return Promise.resolve(next.value.promise).then((value) => {\n",
              "    // Cache the last promise value to make it available to the next\n",
              "    // step of the generator.\n",
              "    outputElement.lastPromiseValue = value;\n",
              "    return next.value.response;\n",
              "  });\n",
              "}\n",
              "\n",
              "/**\n",
              " * Generator function which is called between each async step of the upload\n",
              " * process.\n",
              " * @param {string} inputId Element ID of the input file picker element.\n",
              " * @param {string} outputId Element ID of the output display.\n",
              " * @return {!Iterable<!Object>} Iterable of next steps.\n",
              " */\n",
              "function* uploadFilesStep(inputId, outputId) {\n",
              "  const inputElement = document.getElementById(inputId);\n",
              "  inputElement.disabled = false;\n",
              "\n",
              "  const outputElement = document.getElementById(outputId);\n",
              "  outputElement.innerHTML = '';\n",
              "\n",
              "  const pickedPromise = new Promise((resolve) => {\n",
              "    inputElement.addEventListener('change', (e) => {\n",
              "      resolve(e.target.files);\n",
              "    });\n",
              "  });\n",
              "\n",
              "  const cancel = document.createElement('button');\n",
              "  inputElement.parentElement.appendChild(cancel);\n",
              "  cancel.textContent = 'Cancel upload';\n",
              "  const cancelPromise = new Promise((resolve) => {\n",
              "    cancel.onclick = () => {\n",
              "      resolve(null);\n",
              "    };\n",
              "  });\n",
              "\n",
              "  // Wait for the user to pick the files.\n",
              "  const files = yield {\n",
              "    promise: Promise.race([pickedPromise, cancelPromise]),\n",
              "    response: {\n",
              "      action: 'starting',\n",
              "    }\n",
              "  };\n",
              "\n",
              "  cancel.remove();\n",
              "\n",
              "  // Disable the input element since further picks are not allowed.\n",
              "  inputElement.disabled = true;\n",
              "\n",
              "  if (!files) {\n",
              "    return {\n",
              "      response: {\n",
              "        action: 'complete',\n",
              "      }\n",
              "    };\n",
              "  }\n",
              "\n",
              "  for (const file of files) {\n",
              "    const li = document.createElement('li');\n",
              "    li.append(span(file.name, {fontWeight: 'bold'}));\n",
              "    li.append(span(\n",
              "        `(${file.type || 'n/a'}) - ${file.size} bytes, ` +\n",
              "        `last modified: ${\n",
              "            file.lastModifiedDate ? file.lastModifiedDate.toLocaleDateString() :\n",
              "                                    'n/a'} - `));\n",
              "    const percent = span('0% done');\n",
              "    li.appendChild(percent);\n",
              "\n",
              "    outputElement.appendChild(li);\n",
              "\n",
              "    const fileDataPromise = new Promise((resolve) => {\n",
              "      const reader = new FileReader();\n",
              "      reader.onload = (e) => {\n",
              "        resolve(e.target.result);\n",
              "      };\n",
              "      reader.readAsArrayBuffer(file);\n",
              "    });\n",
              "    // Wait for the data to be ready.\n",
              "    let fileData = yield {\n",
              "      promise: fileDataPromise,\n",
              "      response: {\n",
              "        action: 'continue',\n",
              "      }\n",
              "    };\n",
              "\n",
              "    // Use a chunked sending to avoid message size limits. See b/62115660.\n",
              "    let position = 0;\n",
              "    do {\n",
              "      const length = Math.min(fileData.byteLength - position, MAX_PAYLOAD_SIZE);\n",
              "      const chunk = new Uint8Array(fileData, position, length);\n",
              "      position += length;\n",
              "\n",
              "      const base64 = btoa(String.fromCharCode.apply(null, chunk));\n",
              "      yield {\n",
              "        response: {\n",
              "          action: 'append',\n",
              "          file: file.name,\n",
              "          data: base64,\n",
              "        },\n",
              "      };\n",
              "\n",
              "      let percentDone = fileData.byteLength === 0 ?\n",
              "          100 :\n",
              "          Math.round((position / fileData.byteLength) * 100);\n",
              "      percent.textContent = `${percentDone}% done`;\n",
              "\n",
              "    } while (position < fileData.byteLength);\n",
              "  }\n",
              "\n",
              "  // All done.\n",
              "  yield {\n",
              "    response: {\n",
              "      action: 'complete',\n",
              "    }\n",
              "  };\n",
              "}\n",
              "\n",
              "scope.google = scope.google || {};\n",
              "scope.google.colab = scope.google.colab || {};\n",
              "scope.google.colab._files = {\n",
              "  _uploadFiles,\n",
              "  _uploadFilesContinue,\n",
              "};\n",
              "})(self);\n",
              "</script> "
            ]
          },
          "metadata": {}
        },
        {
          "output_type": "stream",
          "name": "stdout",
          "text": [
            "Saving mnist-original.mat to mnist-original (1).mat\n"
          ]
        }
      ]
    },
    {
      "cell_type": "markdown",
      "source": [
        "#RandInitialize.py"
      ],
      "metadata": {
        "id": "OqYjUo4GuJA_"
      }
    },
    {
      "cell_type": "code",
      "source": [
        "%%writefile RandInitialize.py\n",
        "import numpy as np\n",
        "\n",
        "def initialise(a, b):\n",
        "    epsilon = 0.15\n",
        "    c = np.random.rand(a, b + 1) * (\n",
        "      # Randomly initialises values of thetas between [-epsilon, +epsilon]\n",
        "      2 * epsilon) - epsilon\n",
        "    return c\n"
      ],
      "metadata": {
        "colab": {
          "base_uri": "https://localhost:8080/"
        },
        "id": "9TxFfooxnDaT",
        "outputId": "77d9f9a5-d6a8-461e-8d9a-871a20036e01"
      },
      "execution_count": null,
      "outputs": [
        {
          "output_type": "stream",
          "name": "stdout",
          "text": [
            "Writing RandInitialize.py\n"
          ]
        }
      ]
    },
    {
      "cell_type": "markdown",
      "source": [
        "#Model.py"
      ],
      "metadata": {
        "id": "srnYien4uMe-"
      }
    },
    {
      "cell_type": "code",
      "source": [
        "%%writefile Model.py\n",
        "import numpy as np\n",
        "\n",
        "\n",
        "def neural_network(nn_params, input_layer_size, hidden_layer_size, num_labels, X, y, lamb):\n",
        "    # Weights are split back to Theta1, Theta2\n",
        "    Theta1 = np.reshape(nn_params[:hidden_layer_size * (input_layer_size + 1)],\n",
        "                        (hidden_layer_size, input_layer_size + 1))\n",
        "    Theta2 = np.reshape(nn_params[hidden_layer_size * (input_layer_size + 1):],\n",
        "                        (num_labels, hidden_layer_size + 1))\n",
        "\n",
        "    # Forward propagation\n",
        "    m = X.shape[0]\n",
        "    one_matrix = np.ones((m, 1))\n",
        "    X = np.append(one_matrix, X, axis=1)  # Adding bias unit to first layer\n",
        "    a1 = X\n",
        "    z2 = np.dot(X, Theta1.transpose())\n",
        "    a2 = 1 / (1 + np.exp(-z2))  # Activation for second layer\n",
        "    one_matrix = np.ones((m, 1))\n",
        "    a2 = np.append(one_matrix, a2, axis=1)  # Adding bias unit to hidden layer\n",
        "    z3 = np.dot(a2, Theta2.transpose())\n",
        "    a3 = 1 / (1 + np.exp(-z3))  # Activation for third layer\n",
        "\n",
        "    # Changing the y labels into vectors of boolean values.\n",
        "    # For each label between 0 and 9, there will be a vector of length 10\n",
        "    # where the ith element will be 1 if the label equals i\n",
        "    y_vect = np.zeros((m, 10))\n",
        "    for i in range(m):\n",
        "        y_vect[i, int(y[i])] = 1\n",
        "\n",
        "    # Calculating cost function\n",
        "    J = (1 / m) * (np.sum(np.sum(-y_vect * np.log(a3) - (1 - y_vect) * np.log(1 - a3)))) + (lamb / (2 * m)) * (\n",
        "                sum(sum(pow(Theta1[:, 1:], 2))) + sum(sum(pow(Theta2[:, 1:], 2))))\n",
        "\n",
        "    # backprop\n",
        "    Delta3 = a3 - y_vect\n",
        "    Delta2 = np.dot(Delta3, Theta2) * a2 * (1 - a2)\n",
        "    Delta2 = Delta2[:, 1:]\n",
        "\n",
        "    # gradient\n",
        "    Theta1[:, 0] = 0\n",
        "    Theta1_grad = (1 / m) * np.dot(Delta2.transpose(), a1) + (lamb / m) * Theta1\n",
        "    Theta2[:, 0] = 0\n",
        "    Theta2_grad = (1 / m) * np.dot(Delta3.transpose(), a2) + (lamb / m) * Theta2\n",
        "    grad = np.concatenate((Theta1_grad.flatten(), Theta2_grad.flatten()))\n",
        "\n",
        "    return J, grad\n"
      ],
      "metadata": {
        "colab": {
          "base_uri": "https://localhost:8080/"
        },
        "id": "lFhZTUd8nW_z",
        "outputId": "b706f761-8ae3-4edc-c186-30a384baba49"
      },
      "execution_count": null,
      "outputs": [
        {
          "output_type": "stream",
          "name": "stdout",
          "text": [
            "Overwriting Model.py\n"
          ]
        }
      ]
    },
    {
      "cell_type": "markdown",
      "source": [
        "#Prediction.py"
      ],
      "metadata": {
        "id": "Xvn3ULTmuQjg"
      }
    },
    {
      "cell_type": "code",
      "source": [
        "%%writefile Prediction.py\n",
        "import numpy as np\n",
        "\n",
        "\n",
        "def predict(Theta1, Theta2, X):\n",
        "    m = X.shape[0]\n",
        "    one_matrix = np.ones((m, 1))\n",
        "    X = np.append(one_matrix, X, axis=1)  # Adding bias unit to first layer\n",
        "    z2 = np.dot(X, Theta1.transpose())\n",
        "    a2 = 1 / (1 + np.exp(-z2))  # Activation for second layer\n",
        "    one_matrix = np.ones((m, 1))\n",
        "    a2 = np.append(one_matrix, a2, axis=1)  # Adding bias unit to hidden layer\n",
        "    z3 = np.dot(a2, Theta2.transpose())\n",
        "    a3 = 1 / (1 + np.exp(-z3))  # Activation for third layer\n",
        "    p = (np.argmax(a3, axis=1))  # Predicting the class on the basis of max value of hypothesis\n",
        "    return p\n"
      ],
      "metadata": {
        "colab": {
          "base_uri": "https://localhost:8080/"
        },
        "id": "d3-5Sasqnjkk",
        "outputId": "afddaa32-4113-4adf-8cd5-d2d006453aa9"
      },
      "execution_count": null,
      "outputs": [
        {
          "output_type": "stream",
          "name": "stdout",
          "text": [
            "Overwriting Prediction.py\n"
          ]
        }
      ]
    },
    {
      "cell_type": "markdown",
      "source": [
        "#GUI.py"
      ],
      "metadata": {
        "id": "O9IPScafuTkp"
      }
    },
    {
      "cell_type": "code",
      "source": [
        "%%writefile GUI.py\n",
        "from tkinter import *\n",
        "import numpy as np\n",
        "from PIL import ImageGrab\n",
        "from Prediction import predict\n",
        "\n",
        "window = Tk()\n",
        "window.title(\"Handwritten digit recognition\")\n",
        "l1 = Label()\n",
        "\n",
        "\n",
        "def MyProject():\n",
        "    global l1\n",
        "\n",
        "    widget = cv\n",
        "    # Setting co-ordinates of canvas\n",
        "    x = window.winfo_rootx() + widget.winfo_x()\n",
        "    y = window.winfo_rooty() + widget.winfo_y()\n",
        "    x1 = x + widget.winfo_width()\n",
        "    y1 = y + widget.winfo_height()\n",
        "\n",
        "    # Image is captured from canvas and is resized to (28 X 28) px\n",
        "    img = ImageGrab.grab().crop((x, y, x1, y1)).resize((28, 28))\n",
        "\n",
        "    # Converting rgb to grayscale image\n",
        "    img = img.convert('L')\n",
        "\n",
        "    # Extracting pixel matrix of image and converting it to a vector of (1, 784)\n",
        "    x = np.asarray(img)\n",
        "    vec = np.zeros((1, 784))\n",
        "    k = 0\n",
        "    for i in range(28):\n",
        "        for j in range(28):\n",
        "            vec[0][k] = x[i][j]\n",
        "            k += 1\n",
        "\n",
        "    # Loading Thetas\n",
        "    Theta1 = np.loadtxt('Theta1.txt')\n",
        "    Theta2 = np.loadtxt('Theta2.txt')\n",
        "\n",
        "    # Calling function for prediction\n",
        "    pred = predict(Theta1, Theta2, vec / 255)\n",
        "\n",
        "    # Displaying the result\n",
        "    l1 = Label(window, text=\"Digit = \" + str(pred[0]), font=('Algerian', 20))\n",
        "    l1.place(x=230, y=420)\n",
        "\n",
        "\n",
        "lastx, lasty = None, None\n",
        "\n",
        "\n",
        "# Clears the canvas\n",
        "def clear_widget():\n",
        "    global cv, l1\n",
        "    cv.delete(\"all\")\n",
        "    l1.destroy()\n",
        "\n",
        "\n",
        "# Activate canvas\n",
        "def event_activation(event):\n",
        "    global lastx, lasty\n",
        "    cv.bind('<B1-Motion>', draw_lines)\n",
        "    lastx, lasty = event.x, event.y\n",
        "\n",
        "\n",
        "# To draw on canvas\n",
        "def draw_lines(event):\n",
        "    global lastx, lasty\n",
        "    x, y = event.x, event.y\n",
        "    cv.create_line((lastx, lasty, x, y), width=30, fill='white', capstyle=ROUND, smooth=TRUE, splinesteps=12)\n",
        "    lastx, lasty = x, y\n",
        "\n",
        "\n",
        "# Label\n",
        "L1 = Label(window, text=\"Handwritten Digit Recoginition\", font=('Algerian', 25), fg=\"blue\")\n",
        "L1.place(x=35, y=10)\n",
        "\n",
        "# Button to clear canvas\n",
        "b1 = Button(window, text=\"1. Clear Canvas\", font=('Algerian', 15), bg=\"orange\", fg=\"black\", command=clear_widget)\n",
        "b1.place(x=120, y=370)\n",
        "\n",
        "# Button to predict digit drawn on canvas\n",
        "b2 = Button(window, text=\"2. Prediction\", font=('Algerian', 15), bg=\"white\", fg=\"red\", command=MyProject)\n",
        "b2.place(x=320, y=370)\n",
        "\n",
        "# Setting properties of canvas\n",
        "cv = Canvas(window, width=350, height=290, bg='black')\n",
        "cv.place(x=120, y=70)\n",
        "\n",
        "cv.bind('<Button-1>', event_activation)\n",
        "window.geometry(\"600x500\")\n",
        "window.mainloop()\n"
      ],
      "metadata": {
        "colab": {
          "base_uri": "https://localhost:8080/"
        },
        "id": "wvdpAeM2nonH",
        "outputId": "599477af-b338-4271-ab90-b047b6a3ea88"
      },
      "execution_count": null,
      "outputs": [
        {
          "output_type": "stream",
          "name": "stdout",
          "text": [
            "Overwriting GUI.py\n"
          ]
        }
      ]
    },
    {
      "cell_type": "code",
      "execution_count": null,
      "metadata": {
        "id": "T5GXUlaIkBu4"
      },
      "outputs": [],
      "source": [
        "from scipy.io import loadmat\n",
        "import numpy as np\n",
        "from Model import neural_network\n",
        "from RandInitialize import initialise\n",
        "from Prediction import predict\n",
        "from scipy.optimize import minimize"
      ]
    },
    {
      "cell_type": "markdown",
      "source": [
        "# Loading mat file"
      ],
      "metadata": {
        "id": "EvKLnWQ1knXH"
      }
    },
    {
      "cell_type": "code",
      "source": [
        "data = loadmat('mnist-original.mat')"
      ],
      "metadata": {
        "id": "zNfRm6iykpwu"
      },
      "execution_count": null,
      "outputs": []
    },
    {
      "cell_type": "markdown",
      "source": [
        "# Extracting features from mat file"
      ],
      "metadata": {
        "id": "-Vz7Emogkt11"
      }
    },
    {
      "cell_type": "code",
      "source": [
        "X = data['data']\n",
        "X = X.transpose()"
      ],
      "metadata": {
        "id": "5k3puMo0kvDo"
      },
      "execution_count": null,
      "outputs": []
    },
    {
      "cell_type": "markdown",
      "source": [
        "# Normalizing the data"
      ],
      "metadata": {
        "id": "AhjGIy__kyIK"
      }
    },
    {
      "cell_type": "code",
      "source": [
        "X = X / 255"
      ],
      "metadata": {
        "id": "6RnFEbc-k0LT"
      },
      "execution_count": null,
      "outputs": []
    },
    {
      "cell_type": "markdown",
      "source": [
        "# Extracting labels from mat file"
      ],
      "metadata": {
        "id": "biZ3u6lBk2NX"
      }
    },
    {
      "cell_type": "code",
      "source": [
        "y = data['label']\n",
        "y = y.flatten()"
      ],
      "metadata": {
        "id": "roAgbS-9k12N"
      },
      "execution_count": null,
      "outputs": []
    },
    {
      "cell_type": "markdown",
      "source": [
        "# Splitting data into training set with 60,000 examples"
      ],
      "metadata": {
        "id": "z92FPm5ck5gY"
      }
    },
    {
      "cell_type": "code",
      "source": [
        "X_train = X[:60000, :]\n",
        "y_train = y[:60000]"
      ],
      "metadata": {
        "id": "rsPC9fMKk6uc"
      },
      "execution_count": null,
      "outputs": []
    },
    {
      "cell_type": "markdown",
      "source": [
        "# Splitting data into testing set with 10,000 examples"
      ],
      "metadata": {
        "id": "F9qkM1Fik87s"
      }
    },
    {
      "cell_type": "code",
      "source": [
        "X_test = X[60000:, :]\n",
        "y_test = y[60000:]\n",
        "m = X.shape[0]\n",
        "input_layer_size = 784  # Images are of (28 X 28) px so there will be 784 features\n",
        "hidden_layer_size = 100\n",
        "num_labels = 10  # There are 10 classes [0, 9]"
      ],
      "metadata": {
        "id": "QKpSA-YUk_bf"
      },
      "execution_count": null,
      "outputs": []
    },
    {
      "cell_type": "markdown",
      "source": [
        "# Randomly initialising Thetas"
      ],
      "metadata": {
        "id": "yfFCP0qIlEIs"
      }
    },
    {
      "cell_type": "code",
      "source": [
        "initial_Theta1 = initialise(hidden_layer_size, input_layer_size)\n",
        "initial_Theta2 = initialise(num_labels, hidden_layer_size)"
      ],
      "metadata": {
        "id": "PfmHMZNulD2v"
      },
      "execution_count": null,
      "outputs": []
    },
    {
      "cell_type": "markdown",
      "source": [
        "# Unrolling parameters into a single column vector"
      ],
      "metadata": {
        "id": "HG7fYP91lIzF"
      }
    },
    {
      "cell_type": "code",
      "source": [
        "initial_nn_params = np.concatenate((initial_Theta1.flatten(), initial_Theta2.flatten()))\n",
        "maxiter = 100\n",
        "lambda_reg = 0.1  # To avoid overfitting\n",
        "myargs = (input_layer_size, hidden_layer_size, num_labels, X_train, y_train, lambda_reg)"
      ],
      "metadata": {
        "id": "N5Kr38N4lJIX"
      },
      "execution_count": null,
      "outputs": []
    },
    {
      "cell_type": "markdown",
      "source": [
        "# Calling minimize function to minimize cost function and to train weights"
      ],
      "metadata": {
        "id": "inh-0v8RlMS7"
      }
    },
    {
      "cell_type": "code",
      "source": [
        "results = minimize(neural_network, x0=initial_nn_params, args=myargs,\n",
        "          options={'disp': True, 'maxiter': maxiter}, method=\"L-BFGS-B\", jac=True)\n",
        "\n",
        "nn_params = results[\"x\"]  # Trained Theta is extracted"
      ],
      "metadata": {
        "id": "GNXxIqoflPEp"
      },
      "execution_count": null,
      "outputs": []
    },
    {
      "cell_type": "markdown",
      "source": [
        "# Weights are split back to Theta1, Theta2"
      ],
      "metadata": {
        "id": "UH_rHUnclRsp"
      }
    },
    {
      "cell_type": "code",
      "source": [
        "Theta1 = np.reshape(nn_params[:hidden_layer_size * (input_layer_size + 1)], (\n",
        "                              hidden_layer_size, input_layer_size + 1))  # shape = (100, 785)\n",
        "Theta2 = np.reshape(nn_params[hidden_layer_size * (input_layer_size + 1):],\n",
        "                      (num_labels, hidden_layer_size + 1))  # shape = (10, 101)"
      ],
      "metadata": {
        "id": "vFykFCJ6lRdG"
      },
      "execution_count": null,
      "outputs": []
    },
    {
      "cell_type": "markdown",
      "source": [
        "# Checking test set accuracy of our model"
      ],
      "metadata": {
        "id": "WKS6CKellWjp"
      }
    },
    {
      "cell_type": "code",
      "source": [
        "pred = predict(Theta1, Theta2, X_test)\n",
        "print('Test Set Accuracy: {:f}'.format((np.mean(pred == y_test) * 100)))"
      ],
      "metadata": {
        "colab": {
          "base_uri": "https://localhost:8080/"
        },
        "id": "JTz3i-1DlXde",
        "outputId": "3f8964ca-0c44-4be9-a0db-516d7eb4739f"
      },
      "execution_count": null,
      "outputs": [
        {
          "output_type": "stream",
          "name": "stdout",
          "text": [
            "Test Set Accuracy: 97.410000\n"
          ]
        }
      ]
    },
    {
      "cell_type": "markdown",
      "source": [
        "# Checking train set accuracy of our model"
      ],
      "metadata": {
        "id": "C3BJ2C_9lZHN"
      }
    },
    {
      "cell_type": "code",
      "source": [
        "pred = predict(Theta1, Theta2, X_train)\n",
        "print('Training Set Accuracy: {:f}'.format((np.mean(pred == y_train) * 100)))"
      ],
      "metadata": {
        "colab": {
          "base_uri": "https://localhost:8080/"
        },
        "id": "Wwrlxw42laxY",
        "outputId": "817f2b96-5d3c-479b-a2f4-e7e0b6936424"
      },
      "execution_count": null,
      "outputs": [
        {
          "output_type": "stream",
          "name": "stdout",
          "text": [
            "Training Set Accuracy: 99.398333\n"
          ]
        }
      ]
    },
    {
      "cell_type": "markdown",
      "source": [
        "# Evaluating precision of our model"
      ],
      "metadata": {
        "id": "dxGfdFvwlc13"
      }
    },
    {
      "cell_type": "code",
      "source": [
        "true_positive = 0\n",
        "for i in range(len(pred)):\n",
        "    if pred[i] == y_train[i]:\n",
        "        true_positive += 1\n",
        "false_positive = len(y_train) - true_positive\n",
        "print('Precision =', true_positive/(true_positive + false_positive))"
      ],
      "metadata": {
        "colab": {
          "base_uri": "https://localhost:8080/"
        },
        "id": "u9-cjOQZlftk",
        "outputId": "b48421d7-100c-4e66-c43c-745e9a190ff6"
      },
      "execution_count": null,
      "outputs": [
        {
          "output_type": "stream",
          "name": "stdout",
          "text": [
            "Precision = 0.9939833333333333\n"
          ]
        }
      ]
    },
    {
      "cell_type": "markdown",
      "source": [
        "# Saving Thetas in .txt file"
      ],
      "metadata": {
        "id": "jrYzu8lDlho2"
      }
    },
    {
      "cell_type": "code",
      "source": [
        "np.savetxt('Theta1.txt', Theta1, delimiter=' ')\n",
        "np.savetxt('Theta2.txt', Theta2, delimiter=' ')"
      ],
      "metadata": {
        "id": "_gULCo2kljU1"
      },
      "execution_count": null,
      "outputs": []
    }
  ]
}